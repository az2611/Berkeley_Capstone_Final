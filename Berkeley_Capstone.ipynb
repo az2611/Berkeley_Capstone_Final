{
  "cells": [
    {
      "cell_type": "markdown",
      "metadata": {
        "id": "view-in-github",
        "colab_type": "text"
      },
      "source": [
        "<a href=\"https://colab.research.google.com/github/az2611/Berkeley_Capstone_Final/blob/main/Berkeley_Capstone.ipynb\" target=\"_parent\"><img src=\"https://colab.research.google.com/assets/colab-badge.svg\" alt=\"Open In Colab\"/></a>"
      ]
    },
    {
      "cell_type": "markdown",
      "metadata": {
        "id": "deDGWS90b34E"
      },
      "source": [
        "# **Claims Description Classification**"
      ]
    },
    {
      "cell_type": "code",
      "source": [
        "from google.colab import drive\n",
        "drive.mount('/content/drive')"
      ],
      "metadata": {
        "colab": {
          "base_uri": "https://localhost:8080/"
        },
        "id": "jV7Caqutb71M",
        "outputId": "433c7d74-b11b-4ef4-8ce5-f508422d6b75"
      },
      "execution_count": null,
      "outputs": [
        {
          "output_type": "stream",
          "name": "stdout",
          "text": [
            "Drive already mounted at /content/drive; to attempt to forcibly remount, call drive.mount(\"/content/drive\", force_remount=True).\n"
          ]
        }
      ]
    },
    {
      "cell_type": "code",
      "source": [
        "import seaborn as sns"
      ],
      "metadata": {
        "id": "-sMZQW1QIxuf"
      },
      "execution_count": null,
      "outputs": []
    },
    {
      "cell_type": "code",
      "execution_count": null,
      "metadata": {
        "colab": {
          "base_uri": "https://localhost:8080/"
        },
        "id": "LP78qBJhb34G",
        "outputId": "10b2335a-7141-405d-fdee-4bb70b7e9bc6"
      },
      "outputs": [
        {
          "output_type": "stream",
          "name": "stderr",
          "text": [
            "[nltk_data] Downloading package wordnet to /root/nltk_data...\n",
            "[nltk_data]   Package wordnet is already up-to-date!\n",
            "[nltk_data] Downloading package omw-1.4 to /root/nltk_data...\n",
            "[nltk_data]   Package omw-1.4 is already up-to-date!\n",
            "[nltk_data] Downloading package punkt to /root/nltk_data...\n",
            "[nltk_data]   Package punkt is already up-to-date!\n",
            "[nltk_data] Downloading package stopwords to /root/nltk_data...\n",
            "[nltk_data]   Package stopwords is already up-to-date!\n"
          ]
        },
        {
          "output_type": "execute_result",
          "data": {
            "text/plain": [
              "True"
            ]
          },
          "metadata": {},
          "execution_count": 94
        }
      ],
      "source": [
        "import pandas as pd\n",
        "import numpy as np\n",
        "import matplotlib.pyplot as plt\n",
        "import time\n",
        "\n",
        "from sklearn.linear_model import LogisticRegression\n",
        "from sklearn.feature_extraction.text import CountVectorizer\n",
        "from sklearn.pipeline import Pipeline\n",
        "from sklearn.model_selection import train_test_split, GridSearchCV\n",
        "from sklearn.metrics import mean_squared_error\n",
        "from sklearn.naive_bayes import MultinomialNB\n",
        "from sklearn.tree import DecisionTreeClassifier\n",
        "from sklearn.feature_extraction.text import TfidfVectorizer\n",
        "\n",
        "from nltk.stem import PorterStemmer, WordNetLemmatizer\n",
        "from nltk import word_tokenize\n",
        "\n",
        "import nltk\n",
        "nltk.download('wordnet')\n",
        "nltk.download('omw-1.4')\n",
        "nltk.download('punkt')\n",
        "nltk.download('stopwords')"
      ]
    },
    {
      "cell_type": "code",
      "source": [
        "df = pd.read_csv('/content/drive/MyDrive/Loss_Classification/Loss_Description.csv')"
      ],
      "metadata": {
        "id": "KjNNu43ZcR0R"
      },
      "execution_count": null,
      "outputs": []
    },
    {
      "cell_type": "code",
      "execution_count": null,
      "metadata": {
        "colab": {
          "base_uri": "https://localhost:8080/",
          "height": 206
        },
        "id": "6OCGAzg2b34H",
        "outputId": "49bd3391-7895-4537-bd43-4cc2787450a2"
      },
      "outputs": [
        {
          "output_type": "execute_result",
          "data": {
            "text/plain": [
              "                            Description                         Class\n",
              "0                                   VWF  Occupational disease/illness\n",
              "1       CLAIMANT FELL AND INJURED WRIST                          Fell\n",
              "2  FELL ON ROADWAY AND INJURED BUTTOCKS                          Fell\n",
              "3            FELL ON RAIL TRACK NIL DED                          Fell\n",
              "4     STEEL FELL ON CLMNTS LEGS NIL DED                          Fell"
            ],
            "text/html": [
              "\n",
              "  <div id=\"df-a6565298-d5cd-4973-a6d9-2c52fe398929\">\n",
              "    <div class=\"colab-df-container\">\n",
              "      <div>\n",
              "<style scoped>\n",
              "    .dataframe tbody tr th:only-of-type {\n",
              "        vertical-align: middle;\n",
              "    }\n",
              "\n",
              "    .dataframe tbody tr th {\n",
              "        vertical-align: top;\n",
              "    }\n",
              "\n",
              "    .dataframe thead th {\n",
              "        text-align: right;\n",
              "    }\n",
              "</style>\n",
              "<table border=\"1\" class=\"dataframe\">\n",
              "  <thead>\n",
              "    <tr style=\"text-align: right;\">\n",
              "      <th></th>\n",
              "      <th>Description</th>\n",
              "      <th>Class</th>\n",
              "    </tr>\n",
              "  </thead>\n",
              "  <tbody>\n",
              "    <tr>\n",
              "      <th>0</th>\n",
              "      <td>VWF</td>\n",
              "      <td>Occupational disease/illness</td>\n",
              "    </tr>\n",
              "    <tr>\n",
              "      <th>1</th>\n",
              "      <td>CLAIMANT FELL AND INJURED WRIST</td>\n",
              "      <td>Fell</td>\n",
              "    </tr>\n",
              "    <tr>\n",
              "      <th>2</th>\n",
              "      <td>FELL ON ROADWAY AND INJURED BUTTOCKS</td>\n",
              "      <td>Fell</td>\n",
              "    </tr>\n",
              "    <tr>\n",
              "      <th>3</th>\n",
              "      <td>FELL ON RAIL TRACK NIL DED</td>\n",
              "      <td>Fell</td>\n",
              "    </tr>\n",
              "    <tr>\n",
              "      <th>4</th>\n",
              "      <td>STEEL FELL ON CLMNTS LEGS NIL DED</td>\n",
              "      <td>Fell</td>\n",
              "    </tr>\n",
              "  </tbody>\n",
              "</table>\n",
              "</div>\n",
              "      <button class=\"colab-df-convert\" onclick=\"convertToInteractive('df-a6565298-d5cd-4973-a6d9-2c52fe398929')\"\n",
              "              title=\"Convert this dataframe to an interactive table.\"\n",
              "              style=\"display:none;\">\n",
              "        \n",
              "  <svg xmlns=\"http://www.w3.org/2000/svg\" height=\"24px\"viewBox=\"0 0 24 24\"\n",
              "       width=\"24px\">\n",
              "    <path d=\"M0 0h24v24H0V0z\" fill=\"none\"/>\n",
              "    <path d=\"M18.56 5.44l.94 2.06.94-2.06 2.06-.94-2.06-.94-.94-2.06-.94 2.06-2.06.94zm-11 1L8.5 8.5l.94-2.06 2.06-.94-2.06-.94L8.5 2.5l-.94 2.06-2.06.94zm10 10l.94 2.06.94-2.06 2.06-.94-2.06-.94-.94-2.06-.94 2.06-2.06.94z\"/><path d=\"M17.41 7.96l-1.37-1.37c-.4-.4-.92-.59-1.43-.59-.52 0-1.04.2-1.43.59L10.3 9.45l-7.72 7.72c-.78.78-.78 2.05 0 2.83L4 21.41c.39.39.9.59 1.41.59.51 0 1.02-.2 1.41-.59l7.78-7.78 2.81-2.81c.8-.78.8-2.07 0-2.86zM5.41 20L4 18.59l7.72-7.72 1.47 1.35L5.41 20z\"/>\n",
              "  </svg>\n",
              "      </button>\n",
              "      \n",
              "  <style>\n",
              "    .colab-df-container {\n",
              "      display:flex;\n",
              "      flex-wrap:wrap;\n",
              "      gap: 12px;\n",
              "    }\n",
              "\n",
              "    .colab-df-convert {\n",
              "      background-color: #E8F0FE;\n",
              "      border: none;\n",
              "      border-radius: 50%;\n",
              "      cursor: pointer;\n",
              "      display: none;\n",
              "      fill: #1967D2;\n",
              "      height: 32px;\n",
              "      padding: 0 0 0 0;\n",
              "      width: 32px;\n",
              "    }\n",
              "\n",
              "    .colab-df-convert:hover {\n",
              "      background-color: #E2EBFA;\n",
              "      box-shadow: 0px 1px 2px rgba(60, 64, 67, 0.3), 0px 1px 3px 1px rgba(60, 64, 67, 0.15);\n",
              "      fill: #174EA6;\n",
              "    }\n",
              "\n",
              "    [theme=dark] .colab-df-convert {\n",
              "      background-color: #3B4455;\n",
              "      fill: #D2E3FC;\n",
              "    }\n",
              "\n",
              "    [theme=dark] .colab-df-convert:hover {\n",
              "      background-color: #434B5C;\n",
              "      box-shadow: 0px 1px 3px 1px rgba(0, 0, 0, 0.15);\n",
              "      filter: drop-shadow(0px 1px 2px rgba(0, 0, 0, 0.3));\n",
              "      fill: #FFFFFF;\n",
              "    }\n",
              "  </style>\n",
              "\n",
              "      <script>\n",
              "        const buttonEl =\n",
              "          document.querySelector('#df-a6565298-d5cd-4973-a6d9-2c52fe398929 button.colab-df-convert');\n",
              "        buttonEl.style.display =\n",
              "          google.colab.kernel.accessAllowed ? 'block' : 'none';\n",
              "\n",
              "        async function convertToInteractive(key) {\n",
              "          const element = document.querySelector('#df-a6565298-d5cd-4973-a6d9-2c52fe398929');\n",
              "          const dataTable =\n",
              "            await google.colab.kernel.invokeFunction('convertToInteractive',\n",
              "                                                     [key], {});\n",
              "          if (!dataTable) return;\n",
              "\n",
              "          const docLinkHtml = 'Like what you see? Visit the ' +\n",
              "            '<a target=\"_blank\" href=https://colab.research.google.com/notebooks/data_table.ipynb>data table notebook</a>'\n",
              "            + ' to learn more about interactive tables.';\n",
              "          element.innerHTML = '';\n",
              "          dataTable['output_type'] = 'display_data';\n",
              "          await google.colab.output.renderOutput(dataTable, element);\n",
              "          const docLink = document.createElement('div');\n",
              "          docLink.innerHTML = docLinkHtml;\n",
              "          element.appendChild(docLink);\n",
              "        }\n",
              "      </script>\n",
              "    </div>\n",
              "  </div>\n",
              "  "
            ]
          },
          "metadata": {},
          "execution_count": 96
        }
      ],
      "source": [
        "df.head()"
      ]
    },
    {
      "cell_type": "markdown",
      "metadata": {
        "id": "188lsaTOb34I"
      },
      "source": [
        "#### Task\n",
        "\n",
        "\n",
        "**Text preprocessing:** As a pre-processing step, perform both `stemming` and `lemmatizing` to normalize your text before classifying. For each technique use both the `CountVectorize`r and `TfidifVectorizer` and use options for stop words and max features to prepare the text data for your estimator.\n",
        "\n",
        "**Classification:** Once you have prepared the text data with stemming lemmatizing techniques, consider `LogisticRegression`, `DecisionTreeClassifier`, and `MultinomialNB` as classification algorithms for the data. Compare their performance in terms of accuracy and speed.\n",
        "\n",
        "Share the results of your best classifier in the form of a table with the best version of each estimator, a dictionary of the best parameters and the best score."
      ]
    },
    {
      "cell_type": "markdown",
      "source": [
        "# Data Exploration and Preparation"
      ],
      "metadata": {
        "id": "9bjJBD5ZnBee"
      }
    },
    {
      "cell_type": "code",
      "source": [
        "df.describe()"
      ],
      "metadata": {
        "colab": {
          "base_uri": "https://localhost:8080/",
          "height": 175
        },
        "id": "x7ecBJfknJc8",
        "outputId": "573a3393-0a03-4c2e-cfe7-a0a134e856a4"
      },
      "execution_count": null,
      "outputs": [
        {
          "output_type": "execute_result",
          "data": {
            "text/plain": [
              "           Description   Class\n",
              "count             2311    2311\n",
              "unique            2298      12\n",
              "top     C Mesothelioma  Injury\n",
              "freq                 2     842"
            ],
            "text/html": [
              "\n",
              "  <div id=\"df-40383555-5e0f-4aae-9084-1d0c8b6cfe16\">\n",
              "    <div class=\"colab-df-container\">\n",
              "      <div>\n",
              "<style scoped>\n",
              "    .dataframe tbody tr th:only-of-type {\n",
              "        vertical-align: middle;\n",
              "    }\n",
              "\n",
              "    .dataframe tbody tr th {\n",
              "        vertical-align: top;\n",
              "    }\n",
              "\n",
              "    .dataframe thead th {\n",
              "        text-align: right;\n",
              "    }\n",
              "</style>\n",
              "<table border=\"1\" class=\"dataframe\">\n",
              "  <thead>\n",
              "    <tr style=\"text-align: right;\">\n",
              "      <th></th>\n",
              "      <th>Description</th>\n",
              "      <th>Class</th>\n",
              "    </tr>\n",
              "  </thead>\n",
              "  <tbody>\n",
              "    <tr>\n",
              "      <th>count</th>\n",
              "      <td>2311</td>\n",
              "      <td>2311</td>\n",
              "    </tr>\n",
              "    <tr>\n",
              "      <th>unique</th>\n",
              "      <td>2298</td>\n",
              "      <td>12</td>\n",
              "    </tr>\n",
              "    <tr>\n",
              "      <th>top</th>\n",
              "      <td>C Mesothelioma</td>\n",
              "      <td>Injury</td>\n",
              "    </tr>\n",
              "    <tr>\n",
              "      <th>freq</th>\n",
              "      <td>2</td>\n",
              "      <td>842</td>\n",
              "    </tr>\n",
              "  </tbody>\n",
              "</table>\n",
              "</div>\n",
              "      <button class=\"colab-df-convert\" onclick=\"convertToInteractive('df-40383555-5e0f-4aae-9084-1d0c8b6cfe16')\"\n",
              "              title=\"Convert this dataframe to an interactive table.\"\n",
              "              style=\"display:none;\">\n",
              "        \n",
              "  <svg xmlns=\"http://www.w3.org/2000/svg\" height=\"24px\"viewBox=\"0 0 24 24\"\n",
              "       width=\"24px\">\n",
              "    <path d=\"M0 0h24v24H0V0z\" fill=\"none\"/>\n",
              "    <path d=\"M18.56 5.44l.94 2.06.94-2.06 2.06-.94-2.06-.94-.94-2.06-.94 2.06-2.06.94zm-11 1L8.5 8.5l.94-2.06 2.06-.94-2.06-.94L8.5 2.5l-.94 2.06-2.06.94zm10 10l.94 2.06.94-2.06 2.06-.94-2.06-.94-.94-2.06-.94 2.06-2.06.94z\"/><path d=\"M17.41 7.96l-1.37-1.37c-.4-.4-.92-.59-1.43-.59-.52 0-1.04.2-1.43.59L10.3 9.45l-7.72 7.72c-.78.78-.78 2.05 0 2.83L4 21.41c.39.39.9.59 1.41.59.51 0 1.02-.2 1.41-.59l7.78-7.78 2.81-2.81c.8-.78.8-2.07 0-2.86zM5.41 20L4 18.59l7.72-7.72 1.47 1.35L5.41 20z\"/>\n",
              "  </svg>\n",
              "      </button>\n",
              "      \n",
              "  <style>\n",
              "    .colab-df-container {\n",
              "      display:flex;\n",
              "      flex-wrap:wrap;\n",
              "      gap: 12px;\n",
              "    }\n",
              "\n",
              "    .colab-df-convert {\n",
              "      background-color: #E8F0FE;\n",
              "      border: none;\n",
              "      border-radius: 50%;\n",
              "      cursor: pointer;\n",
              "      display: none;\n",
              "      fill: #1967D2;\n",
              "      height: 32px;\n",
              "      padding: 0 0 0 0;\n",
              "      width: 32px;\n",
              "    }\n",
              "\n",
              "    .colab-df-convert:hover {\n",
              "      background-color: #E2EBFA;\n",
              "      box-shadow: 0px 1px 2px rgba(60, 64, 67, 0.3), 0px 1px 3px 1px rgba(60, 64, 67, 0.15);\n",
              "      fill: #174EA6;\n",
              "    }\n",
              "\n",
              "    [theme=dark] .colab-df-convert {\n",
              "      background-color: #3B4455;\n",
              "      fill: #D2E3FC;\n",
              "    }\n",
              "\n",
              "    [theme=dark] .colab-df-convert:hover {\n",
              "      background-color: #434B5C;\n",
              "      box-shadow: 0px 1px 3px 1px rgba(0, 0, 0, 0.15);\n",
              "      filter: drop-shadow(0px 1px 2px rgba(0, 0, 0, 0.3));\n",
              "      fill: #FFFFFF;\n",
              "    }\n",
              "  </style>\n",
              "\n",
              "      <script>\n",
              "        const buttonEl =\n",
              "          document.querySelector('#df-40383555-5e0f-4aae-9084-1d0c8b6cfe16 button.colab-df-convert');\n",
              "        buttonEl.style.display =\n",
              "          google.colab.kernel.accessAllowed ? 'block' : 'none';\n",
              "\n",
              "        async function convertToInteractive(key) {\n",
              "          const element = document.querySelector('#df-40383555-5e0f-4aae-9084-1d0c8b6cfe16');\n",
              "          const dataTable =\n",
              "            await google.colab.kernel.invokeFunction('convertToInteractive',\n",
              "                                                     [key], {});\n",
              "          if (!dataTable) return;\n",
              "\n",
              "          const docLinkHtml = 'Like what you see? Visit the ' +\n",
              "            '<a target=\"_blank\" href=https://colab.research.google.com/notebooks/data_table.ipynb>data table notebook</a>'\n",
              "            + ' to learn more about interactive tables.';\n",
              "          element.innerHTML = '';\n",
              "          dataTable['output_type'] = 'display_data';\n",
              "          await google.colab.output.renderOutput(dataTable, element);\n",
              "          const docLink = document.createElement('div');\n",
              "          docLink.innerHTML = docLinkHtml;\n",
              "          element.appendChild(docLink);\n",
              "        }\n",
              "      </script>\n",
              "    </div>\n",
              "  </div>\n",
              "  "
            ]
          },
          "metadata": {},
          "execution_count": 97
        }
      ]
    },
    {
      "cell_type": "code",
      "source": [
        "df.info()"
      ],
      "metadata": {
        "colab": {
          "base_uri": "https://localhost:8080/"
        },
        "id": "2qzdzD2cnX-z",
        "outputId": "715e00bc-0db6-4b5e-af79-ed14c90a54de"
      },
      "execution_count": null,
      "outputs": [
        {
          "output_type": "stream",
          "name": "stdout",
          "text": [
            "<class 'pandas.core.frame.DataFrame'>\n",
            "RangeIndex: 2311 entries, 0 to 2310\n",
            "Data columns (total 2 columns):\n",
            " #   Column       Non-Null Count  Dtype \n",
            "---  ------       --------------  ----- \n",
            " 0   Description  2311 non-null   object\n",
            " 1   Class        2311 non-null   object\n",
            "dtypes: object(2)\n",
            "memory usage: 36.2+ KB\n"
          ]
        }
      ]
    },
    {
      "cell_type": "code",
      "source": [
        "#Remove Unknows\n",
        "df = df[df.Class!='Unknown']\n",
        "len(df)"
      ],
      "metadata": {
        "id": "k8w_d5ryo5E4",
        "colab": {
          "base_uri": "https://localhost:8080/"
        },
        "outputId": "65b933d4-18b3-4ff4-c8d3-5d3f58e8c831"
      },
      "execution_count": null,
      "outputs": [
        {
          "output_type": "execute_result",
          "data": {
            "text/plain": [
              "2264"
            ]
          },
          "metadata": {},
          "execution_count": 99
        }
      ]
    },
    {
      "cell_type": "code",
      "source": [
        "possible_labels = df['Class'].unique()\n"
      ],
      "metadata": {
        "id": "roRvKhN3lBoQ"
      },
      "execution_count": null,
      "outputs": []
    },
    {
      "cell_type": "code",
      "source": [
        "label_dict = {}\n",
        "for index, possible_label in enumerate (possible_labels):\n",
        "     label_dict[possible_label]=index "
      ],
      "metadata": {
        "id": "CGx3SYHJnJkw"
      },
      "execution_count": null,
      "outputs": []
    },
    {
      "cell_type": "code",
      "source": [
        "df['label']=df.Class.replace(label_dict)\n",
        "df.head()"
      ],
      "metadata": {
        "colab": {
          "base_uri": "https://localhost:8080/",
          "height": 206
        },
        "id": "HYQOGpZ_nJrA",
        "outputId": "38164d9f-7b3a-4fe4-ac4e-d9bf769e7a35"
      },
      "execution_count": null,
      "outputs": [
        {
          "output_type": "execute_result",
          "data": {
            "text/plain": [
              "                            Description                         Class  label\n",
              "0                                   VWF  Occupational disease/illness      0\n",
              "1       CLAIMANT FELL AND INJURED WRIST                          Fell      1\n",
              "2  FELL ON ROADWAY AND INJURED BUTTOCKS                          Fell      1\n",
              "3            FELL ON RAIL TRACK NIL DED                          Fell      1\n",
              "4     STEEL FELL ON CLMNTS LEGS NIL DED                          Fell      1"
            ],
            "text/html": [
              "\n",
              "  <div id=\"df-ecc415aa-6aab-4a52-b6bf-ce5095655e6b\">\n",
              "    <div class=\"colab-df-container\">\n",
              "      <div>\n",
              "<style scoped>\n",
              "    .dataframe tbody tr th:only-of-type {\n",
              "        vertical-align: middle;\n",
              "    }\n",
              "\n",
              "    .dataframe tbody tr th {\n",
              "        vertical-align: top;\n",
              "    }\n",
              "\n",
              "    .dataframe thead th {\n",
              "        text-align: right;\n",
              "    }\n",
              "</style>\n",
              "<table border=\"1\" class=\"dataframe\">\n",
              "  <thead>\n",
              "    <tr style=\"text-align: right;\">\n",
              "      <th></th>\n",
              "      <th>Description</th>\n",
              "      <th>Class</th>\n",
              "      <th>label</th>\n",
              "    </tr>\n",
              "  </thead>\n",
              "  <tbody>\n",
              "    <tr>\n",
              "      <th>0</th>\n",
              "      <td>VWF</td>\n",
              "      <td>Occupational disease/illness</td>\n",
              "      <td>0</td>\n",
              "    </tr>\n",
              "    <tr>\n",
              "      <th>1</th>\n",
              "      <td>CLAIMANT FELL AND INJURED WRIST</td>\n",
              "      <td>Fell</td>\n",
              "      <td>1</td>\n",
              "    </tr>\n",
              "    <tr>\n",
              "      <th>2</th>\n",
              "      <td>FELL ON ROADWAY AND INJURED BUTTOCKS</td>\n",
              "      <td>Fell</td>\n",
              "      <td>1</td>\n",
              "    </tr>\n",
              "    <tr>\n",
              "      <th>3</th>\n",
              "      <td>FELL ON RAIL TRACK NIL DED</td>\n",
              "      <td>Fell</td>\n",
              "      <td>1</td>\n",
              "    </tr>\n",
              "    <tr>\n",
              "      <th>4</th>\n",
              "      <td>STEEL FELL ON CLMNTS LEGS NIL DED</td>\n",
              "      <td>Fell</td>\n",
              "      <td>1</td>\n",
              "    </tr>\n",
              "  </tbody>\n",
              "</table>\n",
              "</div>\n",
              "      <button class=\"colab-df-convert\" onclick=\"convertToInteractive('df-ecc415aa-6aab-4a52-b6bf-ce5095655e6b')\"\n",
              "              title=\"Convert this dataframe to an interactive table.\"\n",
              "              style=\"display:none;\">\n",
              "        \n",
              "  <svg xmlns=\"http://www.w3.org/2000/svg\" height=\"24px\"viewBox=\"0 0 24 24\"\n",
              "       width=\"24px\">\n",
              "    <path d=\"M0 0h24v24H0V0z\" fill=\"none\"/>\n",
              "    <path d=\"M18.56 5.44l.94 2.06.94-2.06 2.06-.94-2.06-.94-.94-2.06-.94 2.06-2.06.94zm-11 1L8.5 8.5l.94-2.06 2.06-.94-2.06-.94L8.5 2.5l-.94 2.06-2.06.94zm10 10l.94 2.06.94-2.06 2.06-.94-2.06-.94-.94-2.06-.94 2.06-2.06.94z\"/><path d=\"M17.41 7.96l-1.37-1.37c-.4-.4-.92-.59-1.43-.59-.52 0-1.04.2-1.43.59L10.3 9.45l-7.72 7.72c-.78.78-.78 2.05 0 2.83L4 21.41c.39.39.9.59 1.41.59.51 0 1.02-.2 1.41-.59l7.78-7.78 2.81-2.81c.8-.78.8-2.07 0-2.86zM5.41 20L4 18.59l7.72-7.72 1.47 1.35L5.41 20z\"/>\n",
              "  </svg>\n",
              "      </button>\n",
              "      \n",
              "  <style>\n",
              "    .colab-df-container {\n",
              "      display:flex;\n",
              "      flex-wrap:wrap;\n",
              "      gap: 12px;\n",
              "    }\n",
              "\n",
              "    .colab-df-convert {\n",
              "      background-color: #E8F0FE;\n",
              "      border: none;\n",
              "      border-radius: 50%;\n",
              "      cursor: pointer;\n",
              "      display: none;\n",
              "      fill: #1967D2;\n",
              "      height: 32px;\n",
              "      padding: 0 0 0 0;\n",
              "      width: 32px;\n",
              "    }\n",
              "\n",
              "    .colab-df-convert:hover {\n",
              "      background-color: #E2EBFA;\n",
              "      box-shadow: 0px 1px 2px rgba(60, 64, 67, 0.3), 0px 1px 3px 1px rgba(60, 64, 67, 0.15);\n",
              "      fill: #174EA6;\n",
              "    }\n",
              "\n",
              "    [theme=dark] .colab-df-convert {\n",
              "      background-color: #3B4455;\n",
              "      fill: #D2E3FC;\n",
              "    }\n",
              "\n",
              "    [theme=dark] .colab-df-convert:hover {\n",
              "      background-color: #434B5C;\n",
              "      box-shadow: 0px 1px 3px 1px rgba(0, 0, 0, 0.15);\n",
              "      filter: drop-shadow(0px 1px 2px rgba(0, 0, 0, 0.3));\n",
              "      fill: #FFFFFF;\n",
              "    }\n",
              "  </style>\n",
              "\n",
              "      <script>\n",
              "        const buttonEl =\n",
              "          document.querySelector('#df-ecc415aa-6aab-4a52-b6bf-ce5095655e6b button.colab-df-convert');\n",
              "        buttonEl.style.display =\n",
              "          google.colab.kernel.accessAllowed ? 'block' : 'none';\n",
              "\n",
              "        async function convertToInteractive(key) {\n",
              "          const element = document.querySelector('#df-ecc415aa-6aab-4a52-b6bf-ce5095655e6b');\n",
              "          const dataTable =\n",
              "            await google.colab.kernel.invokeFunction('convertToInteractive',\n",
              "                                                     [key], {});\n",
              "          if (!dataTable) return;\n",
              "\n",
              "          const docLinkHtml = 'Like what you see? Visit the ' +\n",
              "            '<a target=\"_blank\" href=https://colab.research.google.com/notebooks/data_table.ipynb>data table notebook</a>'\n",
              "            + ' to learn more about interactive tables.';\n",
              "          element.innerHTML = '';\n",
              "          dataTable['output_type'] = 'display_data';\n",
              "          await google.colab.output.renderOutput(dataTable, element);\n",
              "          const docLink = document.createElement('div');\n",
              "          docLink.innerHTML = docLinkHtml;\n",
              "          element.appendChild(docLink);\n",
              "        }\n",
              "      </script>\n",
              "    </div>\n",
              "  </div>\n",
              "  "
            ]
          },
          "metadata": {},
          "execution_count": 102
        }
      ]
    },
    {
      "cell_type": "code",
      "source": [
        "df.groupby(['Class']).count()"
      ],
      "metadata": {
        "colab": {
          "base_uri": "https://localhost:8080/",
          "height": 426
        },
        "id": "AXvEC_5bor-z",
        "outputId": "bee50fd9-ed99-421b-da4f-c3127c4fe98c"
      },
      "execution_count": null,
      "outputs": [
        {
          "output_type": "execute_result",
          "data": {
            "text/plain": [
              "                              Description  label\n",
              "Class                                           \n",
              "Auto-related                          233    233\n",
              "Damage                                192    192\n",
              "Fell                                  509    509\n",
              "Fire                                   44     44\n",
              "Flood                                  62     62\n",
              "Injury                                842    842\n",
              "Occupational disease/illness          146    146\n",
              "Pollution                              62     62\n",
              "Theft                                  15     15\n",
              "Water                                 157    157\n",
              "auto-related                            2      2"
            ],
            "text/html": [
              "\n",
              "  <div id=\"df-02f682c6-ba2f-4a53-93d3-3a1ad7625da7\">\n",
              "    <div class=\"colab-df-container\">\n",
              "      <div>\n",
              "<style scoped>\n",
              "    .dataframe tbody tr th:only-of-type {\n",
              "        vertical-align: middle;\n",
              "    }\n",
              "\n",
              "    .dataframe tbody tr th {\n",
              "        vertical-align: top;\n",
              "    }\n",
              "\n",
              "    .dataframe thead th {\n",
              "        text-align: right;\n",
              "    }\n",
              "</style>\n",
              "<table border=\"1\" class=\"dataframe\">\n",
              "  <thead>\n",
              "    <tr style=\"text-align: right;\">\n",
              "      <th></th>\n",
              "      <th>Description</th>\n",
              "      <th>label</th>\n",
              "    </tr>\n",
              "    <tr>\n",
              "      <th>Class</th>\n",
              "      <th></th>\n",
              "      <th></th>\n",
              "    </tr>\n",
              "  </thead>\n",
              "  <tbody>\n",
              "    <tr>\n",
              "      <th>Auto-related</th>\n",
              "      <td>233</td>\n",
              "      <td>233</td>\n",
              "    </tr>\n",
              "    <tr>\n",
              "      <th>Damage</th>\n",
              "      <td>192</td>\n",
              "      <td>192</td>\n",
              "    </tr>\n",
              "    <tr>\n",
              "      <th>Fell</th>\n",
              "      <td>509</td>\n",
              "      <td>509</td>\n",
              "    </tr>\n",
              "    <tr>\n",
              "      <th>Fire</th>\n",
              "      <td>44</td>\n",
              "      <td>44</td>\n",
              "    </tr>\n",
              "    <tr>\n",
              "      <th>Flood</th>\n",
              "      <td>62</td>\n",
              "      <td>62</td>\n",
              "    </tr>\n",
              "    <tr>\n",
              "      <th>Injury</th>\n",
              "      <td>842</td>\n",
              "      <td>842</td>\n",
              "    </tr>\n",
              "    <tr>\n",
              "      <th>Occupational disease/illness</th>\n",
              "      <td>146</td>\n",
              "      <td>146</td>\n",
              "    </tr>\n",
              "    <tr>\n",
              "      <th>Pollution</th>\n",
              "      <td>62</td>\n",
              "      <td>62</td>\n",
              "    </tr>\n",
              "    <tr>\n",
              "      <th>Theft</th>\n",
              "      <td>15</td>\n",
              "      <td>15</td>\n",
              "    </tr>\n",
              "    <tr>\n",
              "      <th>Water</th>\n",
              "      <td>157</td>\n",
              "      <td>157</td>\n",
              "    </tr>\n",
              "    <tr>\n",
              "      <th>auto-related</th>\n",
              "      <td>2</td>\n",
              "      <td>2</td>\n",
              "    </tr>\n",
              "  </tbody>\n",
              "</table>\n",
              "</div>\n",
              "      <button class=\"colab-df-convert\" onclick=\"convertToInteractive('df-02f682c6-ba2f-4a53-93d3-3a1ad7625da7')\"\n",
              "              title=\"Convert this dataframe to an interactive table.\"\n",
              "              style=\"display:none;\">\n",
              "        \n",
              "  <svg xmlns=\"http://www.w3.org/2000/svg\" height=\"24px\"viewBox=\"0 0 24 24\"\n",
              "       width=\"24px\">\n",
              "    <path d=\"M0 0h24v24H0V0z\" fill=\"none\"/>\n",
              "    <path d=\"M18.56 5.44l.94 2.06.94-2.06 2.06-.94-2.06-.94-.94-2.06-.94 2.06-2.06.94zm-11 1L8.5 8.5l.94-2.06 2.06-.94-2.06-.94L8.5 2.5l-.94 2.06-2.06.94zm10 10l.94 2.06.94-2.06 2.06-.94-2.06-.94-.94-2.06-.94 2.06-2.06.94z\"/><path d=\"M17.41 7.96l-1.37-1.37c-.4-.4-.92-.59-1.43-.59-.52 0-1.04.2-1.43.59L10.3 9.45l-7.72 7.72c-.78.78-.78 2.05 0 2.83L4 21.41c.39.39.9.59 1.41.59.51 0 1.02-.2 1.41-.59l7.78-7.78 2.81-2.81c.8-.78.8-2.07 0-2.86zM5.41 20L4 18.59l7.72-7.72 1.47 1.35L5.41 20z\"/>\n",
              "  </svg>\n",
              "      </button>\n",
              "      \n",
              "  <style>\n",
              "    .colab-df-container {\n",
              "      display:flex;\n",
              "      flex-wrap:wrap;\n",
              "      gap: 12px;\n",
              "    }\n",
              "\n",
              "    .colab-df-convert {\n",
              "      background-color: #E8F0FE;\n",
              "      border: none;\n",
              "      border-radius: 50%;\n",
              "      cursor: pointer;\n",
              "      display: none;\n",
              "      fill: #1967D2;\n",
              "      height: 32px;\n",
              "      padding: 0 0 0 0;\n",
              "      width: 32px;\n",
              "    }\n",
              "\n",
              "    .colab-df-convert:hover {\n",
              "      background-color: #E2EBFA;\n",
              "      box-shadow: 0px 1px 2px rgba(60, 64, 67, 0.3), 0px 1px 3px 1px rgba(60, 64, 67, 0.15);\n",
              "      fill: #174EA6;\n",
              "    }\n",
              "\n",
              "    [theme=dark] .colab-df-convert {\n",
              "      background-color: #3B4455;\n",
              "      fill: #D2E3FC;\n",
              "    }\n",
              "\n",
              "    [theme=dark] .colab-df-convert:hover {\n",
              "      background-color: #434B5C;\n",
              "      box-shadow: 0px 1px 3px 1px rgba(0, 0, 0, 0.15);\n",
              "      filter: drop-shadow(0px 1px 2px rgba(0, 0, 0, 0.3));\n",
              "      fill: #FFFFFF;\n",
              "    }\n",
              "  </style>\n",
              "\n",
              "      <script>\n",
              "        const buttonEl =\n",
              "          document.querySelector('#df-02f682c6-ba2f-4a53-93d3-3a1ad7625da7 button.colab-df-convert');\n",
              "        buttonEl.style.display =\n",
              "          google.colab.kernel.accessAllowed ? 'block' : 'none';\n",
              "\n",
              "        async function convertToInteractive(key) {\n",
              "          const element = document.querySelector('#df-02f682c6-ba2f-4a53-93d3-3a1ad7625da7');\n",
              "          const dataTable =\n",
              "            await google.colab.kernel.invokeFunction('convertToInteractive',\n",
              "                                                     [key], {});\n",
              "          if (!dataTable) return;\n",
              "\n",
              "          const docLinkHtml = 'Like what you see? Visit the ' +\n",
              "            '<a target=\"_blank\" href=https://colab.research.google.com/notebooks/data_table.ipynb>data table notebook</a>'\n",
              "            + ' to learn more about interactive tables.';\n",
              "          element.innerHTML = '';\n",
              "          dataTable['output_type'] = 'display_data';\n",
              "          await google.colab.output.renderOutput(dataTable, element);\n",
              "          const docLink = document.createElement('div');\n",
              "          docLink.innerHTML = docLinkHtml;\n",
              "          element.appendChild(docLink);\n",
              "        }\n",
              "      </script>\n",
              "    </div>\n",
              "  </div>\n",
              "  "
            ]
          },
          "metadata": {},
          "execution_count": 103
        }
      ]
    },
    {
      "cell_type": "code",
      "source": [
        "#Remove low classes\n",
        "df = df[~df['Class'].isin(['auto-related','Theft'])]"
      ],
      "metadata": {
        "id": "pznkCrllosH3"
      },
      "execution_count": null,
      "outputs": []
    },
    {
      "cell_type": "code",
      "source": [
        "df.groupby(['Class']).count()"
      ],
      "metadata": {
        "colab": {
          "base_uri": "https://localhost:8080/",
          "height": 302
        },
        "id": "crcJACX6osL7",
        "outputId": "c3d6854f-48e2-4f93-968f-920f7c9392db"
      },
      "execution_count": null,
      "outputs": [
        {
          "output_type": "execute_result",
          "data": {
            "text/plain": [
              "                              Description  label\n",
              "Class                                           \n",
              "Auto-related                          233    233\n",
              "Damage                                192    192\n",
              "Fell                                  509    509\n",
              "Fire                                   44     44\n",
              "Flood                                  62     62\n",
              "Injury                                842    842\n",
              "Occupational disease/illness          146    146\n",
              "Pollution                              62     62\n",
              "Water                                 157    157"
            ],
            "text/html": [
              "\n",
              "  <div id=\"df-cdb5d888-f79c-4383-a08a-8eb39e98edac\">\n",
              "    <div class=\"colab-df-container\">\n",
              "      <div>\n",
              "<style scoped>\n",
              "    .dataframe tbody tr th:only-of-type {\n",
              "        vertical-align: middle;\n",
              "    }\n",
              "\n",
              "    .dataframe tbody tr th {\n",
              "        vertical-align: top;\n",
              "    }\n",
              "\n",
              "    .dataframe thead th {\n",
              "        text-align: right;\n",
              "    }\n",
              "</style>\n",
              "<table border=\"1\" class=\"dataframe\">\n",
              "  <thead>\n",
              "    <tr style=\"text-align: right;\">\n",
              "      <th></th>\n",
              "      <th>Description</th>\n",
              "      <th>label</th>\n",
              "    </tr>\n",
              "    <tr>\n",
              "      <th>Class</th>\n",
              "      <th></th>\n",
              "      <th></th>\n",
              "    </tr>\n",
              "  </thead>\n",
              "  <tbody>\n",
              "    <tr>\n",
              "      <th>Auto-related</th>\n",
              "      <td>233</td>\n",
              "      <td>233</td>\n",
              "    </tr>\n",
              "    <tr>\n",
              "      <th>Damage</th>\n",
              "      <td>192</td>\n",
              "      <td>192</td>\n",
              "    </tr>\n",
              "    <tr>\n",
              "      <th>Fell</th>\n",
              "      <td>509</td>\n",
              "      <td>509</td>\n",
              "    </tr>\n",
              "    <tr>\n",
              "      <th>Fire</th>\n",
              "      <td>44</td>\n",
              "      <td>44</td>\n",
              "    </tr>\n",
              "    <tr>\n",
              "      <th>Flood</th>\n",
              "      <td>62</td>\n",
              "      <td>62</td>\n",
              "    </tr>\n",
              "    <tr>\n",
              "      <th>Injury</th>\n",
              "      <td>842</td>\n",
              "      <td>842</td>\n",
              "    </tr>\n",
              "    <tr>\n",
              "      <th>Occupational disease/illness</th>\n",
              "      <td>146</td>\n",
              "      <td>146</td>\n",
              "    </tr>\n",
              "    <tr>\n",
              "      <th>Pollution</th>\n",
              "      <td>62</td>\n",
              "      <td>62</td>\n",
              "    </tr>\n",
              "    <tr>\n",
              "      <th>Water</th>\n",
              "      <td>157</td>\n",
              "      <td>157</td>\n",
              "    </tr>\n",
              "  </tbody>\n",
              "</table>\n",
              "</div>\n",
              "      <button class=\"colab-df-convert\" onclick=\"convertToInteractive('df-cdb5d888-f79c-4383-a08a-8eb39e98edac')\"\n",
              "              title=\"Convert this dataframe to an interactive table.\"\n",
              "              style=\"display:none;\">\n",
              "        \n",
              "  <svg xmlns=\"http://www.w3.org/2000/svg\" height=\"24px\"viewBox=\"0 0 24 24\"\n",
              "       width=\"24px\">\n",
              "    <path d=\"M0 0h24v24H0V0z\" fill=\"none\"/>\n",
              "    <path d=\"M18.56 5.44l.94 2.06.94-2.06 2.06-.94-2.06-.94-.94-2.06-.94 2.06-2.06.94zm-11 1L8.5 8.5l.94-2.06 2.06-.94-2.06-.94L8.5 2.5l-.94 2.06-2.06.94zm10 10l.94 2.06.94-2.06 2.06-.94-2.06-.94-.94-2.06-.94 2.06-2.06.94z\"/><path d=\"M17.41 7.96l-1.37-1.37c-.4-.4-.92-.59-1.43-.59-.52 0-1.04.2-1.43.59L10.3 9.45l-7.72 7.72c-.78.78-.78 2.05 0 2.83L4 21.41c.39.39.9.59 1.41.59.51 0 1.02-.2 1.41-.59l7.78-7.78 2.81-2.81c.8-.78.8-2.07 0-2.86zM5.41 20L4 18.59l7.72-7.72 1.47 1.35L5.41 20z\"/>\n",
              "  </svg>\n",
              "      </button>\n",
              "      \n",
              "  <style>\n",
              "    .colab-df-container {\n",
              "      display:flex;\n",
              "      flex-wrap:wrap;\n",
              "      gap: 12px;\n",
              "    }\n",
              "\n",
              "    .colab-df-convert {\n",
              "      background-color: #E8F0FE;\n",
              "      border: none;\n",
              "      border-radius: 50%;\n",
              "      cursor: pointer;\n",
              "      display: none;\n",
              "      fill: #1967D2;\n",
              "      height: 32px;\n",
              "      padding: 0 0 0 0;\n",
              "      width: 32px;\n",
              "    }\n",
              "\n",
              "    .colab-df-convert:hover {\n",
              "      background-color: #E2EBFA;\n",
              "      box-shadow: 0px 1px 2px rgba(60, 64, 67, 0.3), 0px 1px 3px 1px rgba(60, 64, 67, 0.15);\n",
              "      fill: #174EA6;\n",
              "    }\n",
              "\n",
              "    [theme=dark] .colab-df-convert {\n",
              "      background-color: #3B4455;\n",
              "      fill: #D2E3FC;\n",
              "    }\n",
              "\n",
              "    [theme=dark] .colab-df-convert:hover {\n",
              "      background-color: #434B5C;\n",
              "      box-shadow: 0px 1px 3px 1px rgba(0, 0, 0, 0.15);\n",
              "      filter: drop-shadow(0px 1px 2px rgba(0, 0, 0, 0.3));\n",
              "      fill: #FFFFFF;\n",
              "    }\n",
              "  </style>\n",
              "\n",
              "      <script>\n",
              "        const buttonEl =\n",
              "          document.querySelector('#df-cdb5d888-f79c-4383-a08a-8eb39e98edac button.colab-df-convert');\n",
              "        buttonEl.style.display =\n",
              "          google.colab.kernel.accessAllowed ? 'block' : 'none';\n",
              "\n",
              "        async function convertToInteractive(key) {\n",
              "          const element = document.querySelector('#df-cdb5d888-f79c-4383-a08a-8eb39e98edac');\n",
              "          const dataTable =\n",
              "            await google.colab.kernel.invokeFunction('convertToInteractive',\n",
              "                                                     [key], {});\n",
              "          if (!dataTable) return;\n",
              "\n",
              "          const docLinkHtml = 'Like what you see? Visit the ' +\n",
              "            '<a target=\"_blank\" href=https://colab.research.google.com/notebooks/data_table.ipynb>data table notebook</a>'\n",
              "            + ' to learn more about interactive tables.';\n",
              "          element.innerHTML = '';\n",
              "          dataTable['output_type'] = 'display_data';\n",
              "          await google.colab.output.renderOutput(dataTable, element);\n",
              "          const docLink = document.createElement('div');\n",
              "          docLink.innerHTML = docLinkHtml;\n",
              "          element.appendChild(docLink);\n",
              "        }\n",
              "      </script>\n",
              "    </div>\n",
              "  </div>\n",
              "  "
            ]
          },
          "metadata": {},
          "execution_count": 105
        }
      ]
    },
    {
      "cell_type": "code",
      "source": [
        "ax = df['Class'].value_counts().plot(kind='bar',figsize=(9,6),title=\"Class Frequency\")\n",
        "ax.set_xlabel(\"Class\")\n",
        "ax.set_ylabel(\"Frequency\")"
      ],
      "metadata": {
        "colab": {
          "base_uri": "https://localhost:8080/",
          "height": 553
        },
        "id": "RTt6zi48osQE",
        "outputId": "7c2e3dcf-ffb1-464e-986e-83dd83a6f157"
      },
      "execution_count": null,
      "outputs": [
        {
          "output_type": "execute_result",
          "data": {
            "text/plain": [
              "Text(0, 0.5, 'Frequency')"
            ]
          },
          "metadata": {},
          "execution_count": 106
        },
        {
          "output_type": "display_data",
          "data": {
            "text/plain": [
              "<Figure size 648x432 with 1 Axes>"
            ],
            "image/png": "[encoded data removed]"
          },
          "metadata": {
            "needs_background": "light"
          }
        }
      ]
    },
    {
      "cell_type": "code",
      "source": [
        "len(df)"
      ],
      "metadata": {
        "colab": {
          "base_uri": "https://localhost:8080/"
        },
        "id": "M1V7dW_d5_GO",
        "outputId": "ed202255-59a9-4c6b-8787-5f8d8edcfb93"
      },
      "execution_count": null,
      "outputs": [
        {
          "output_type": "execute_result",
          "data": {
            "text/plain": [
              "2247"
            ]
          },
          "metadata": {},
          "execution_count": 107
        }
      ]
    },
    {
      "cell_type": "markdown",
      "metadata": {
        "id": "pA3nKipWb34I"
      },
      "source": [
        "### Test / Train Set"
      ]
    },
    {
      "cell_type": "code",
      "execution_count": null,
      "metadata": {
        "id": "DXUsp9tbb34I"
      },
      "outputs": [],
      "source": [
        "X = df.drop('Class', axis = 1)\n",
        "y = df['Class']"
      ]
    },
    {
      "cell_type": "code",
      "execution_count": null,
      "metadata": {
        "id": "pigB2VkOb34I"
      },
      "outputs": [],
      "source": [
        "X_train, X_test, y_train, y_test = train_test_split(X['Description'], y, random_state = 42, stratify=y, test_size=0.3)"
      ]
    },
    {
      "cell_type": "code",
      "execution_count": null,
      "metadata": {
        "colab": {
          "base_uri": "https://localhost:8080/"
        },
        "id": "GhkdiY4tb34I",
        "outputId": "dad15e74-c2fd-4e3f-f614-02be853fba2e"
      },
      "outputs": [
        {
          "output_type": "stream",
          "name": "stdout",
          "text": [
            "1572\n"
          ]
        },
        {
          "output_type": "execute_result",
          "data": {
            "text/plain": [
              "Injury                          0.374682\n",
              "Fell                            0.226463\n",
              "Auto-related                    0.103690\n",
              "Damage                          0.085242\n",
              "Water                           0.069975\n",
              "Occupational disease/illness    0.064885\n",
              "Pollution                       0.027990\n",
              "Flood                           0.027354\n",
              "Fire                            0.019720\n",
              "Name: Class, dtype: float64"
            ]
          },
          "metadata": {},
          "execution_count": 110
        }
      ],
      "source": [
        "print(len(X_train))\n",
        "y_train.value_counts(normalize = True)"
      ]
    },
    {
      "cell_type": "code",
      "execution_count": null,
      "metadata": {
        "colab": {
          "base_uri": "https://localhost:8080/"
        },
        "id": "Pf-dNNgdb34J",
        "outputId": "7d6a86b2-229e-4090-86dc-43e55776e5f6"
      },
      "outputs": [
        {
          "output_type": "stream",
          "name": "stdout",
          "text": [
            "1572\n"
          ]
        },
        {
          "output_type": "execute_result",
          "data": {
            "text/plain": [
              "Injury                          0.374815\n",
              "Fell                            0.226667\n",
              "Auto-related                    0.103704\n",
              "Damage                          0.085926\n",
              "Water                           0.069630\n",
              "Occupational disease/illness    0.065185\n",
              "Flood                           0.028148\n",
              "Pollution                       0.026667\n",
              "Fire                            0.019259\n",
              "Name: Class, dtype: float64"
            ]
          },
          "metadata": {},
          "execution_count": 111
        }
      ],
      "source": [
        "print(len(y_train))\n",
        "y_test.value_counts(normalize = True)"
      ]
    },
    {
      "cell_type": "markdown",
      "metadata": {
        "id": "16Wtc67hb34J"
      },
      "source": [
        "### PorterStemming"
      ]
    },
    {
      "cell_type": "code",
      "execution_count": null,
      "metadata": {
        "id": "SZbB_wprb34J"
      },
      "outputs": [],
      "source": [
        "def stemmer(text):\n",
        "    stem = PorterStemmer()\n",
        "    return ' '.join([stem.stem(w) for w in word_tokenize(text)])"
      ]
    },
    {
      "cell_type": "code",
      "execution_count": null,
      "metadata": {
        "id": "2T56l4D4b34J"
      },
      "outputs": [],
      "source": [
        "stemmed_X_train = X_train.apply(stemmer)\n",
        "stemmed_X_test = X_test.apply(stemmer)"
      ]
    },
    {
      "cell_type": "code",
      "execution_count": null,
      "metadata": {
        "id": "5tIAUaGkb34J"
      },
      "outputs": [],
      "source": [
        "results = pd.DataFrame(columns=['Model', \n",
        "                                'Stemming',\n",
        "                                'Vectorizer', \n",
        "                                'Best Max Features', \n",
        "                                'Best Stop Words', \n",
        "                                'Score',\n",
        "                                'Time'])\n",
        "\n",
        "results.set_index('Model', inplace=True)"
      ]
    },
    {
      "cell_type": "code",
      "execution_count": null,
      "metadata": {
        "id": "aobdjXFhb34J"
      },
      "outputs": [],
      "source": [
        "params2 = {'vct__max_features': [100, 500, 1000, 2000, 3000, 4000],\n",
        "          'vct__stop_words': ['english', None]}"
      ]
    },
    {
      "cell_type": "code",
      "execution_count": null,
      "metadata": {
        "id": "KgK0ImUmb34J"
      },
      "outputs": [],
      "source": [
        "models = [('LogisticRegression_l2', LogisticRegression(max_iter=10000, penalty='l2')),('DecisionTree', DecisionTreeClassifier()), ('NaiveBayes', MultinomialNB())]\n",
        "vectors = [('cvect', CountVectorizer()),('tdif',TfidfVectorizer())]"
      ]
    },
    {
      "cell_type": "code",
      "source": [
        "#grid.get_params().keys()"
      ],
      "metadata": {
        "id": "ybeC50sS-A05"
      },
      "execution_count": null,
      "outputs": []
    },
    {
      "cell_type": "code",
      "source": [
        "params2 = {'vct__max_features': [100, 500, 1000, 2000, 3000, 4000],\n",
        "          'vct__stop_words': ['english', None]}"
      ],
      "metadata": {
        "id": "Og6JwflsCvE6"
      },
      "execution_count": null,
      "outputs": []
    },
    {
      "cell_type": "code",
      "execution_count": null,
      "metadata": {
        "colab": {
          "base_uri": "https://localhost:8080/"
        },
        "id": "7MY_ww0Db34J",
        "outputId": "7045afb2-20a5-420d-990d-20a8fe1cfeca"
      },
      "outputs": [
        {
          "output_type": "stream",
          "name": "stdout",
          "text": [
            "\n",
            "Working on  LogisticRegression_l2 + cvect\n",
            "Fitting 5 folds for each of 12 candidates, totalling 60 fits\n",
            "CPU times: user 9.97 s, sys: 4.2 s, total: 14.2 s\n",
            "Wall time: 12.4 s\n",
            "\n",
            "Results for:  LogisticRegression_l2 + cvect\n",
            "\n",
            "Accuracy:  0.8637037037037038\n",
            "\n",
            "Best Parameters:  {'vct__max_features': 500, 'vct__stop_words': None}\n",
            "\n",
            "Fit Time:  12.37\n",
            "\n",
            "Working on  LogisticRegression_l2 + tdif\n",
            "Fitting 5 folds for each of 12 candidates, totalling 60 fits\n",
            "CPU times: user 10.2 s, sys: 5.21 s, total: 15.4 s\n",
            "Wall time: 12.5 s\n",
            "\n",
            "Results for:  LogisticRegression_l2 + tdif\n",
            "\n",
            "Accuracy:  0.8340740740740741\n",
            "\n",
            "Best Parameters:  {'vct__max_features': 500, 'vct__stop_words': None}\n",
            "\n",
            "Fit Time:  12.5\n",
            "\n",
            "Working on  DecisionTree + cvect\n",
            "Fitting 5 folds for each of 12 candidates, totalling 60 fits\n",
            "CPU times: user 2.02 s, sys: 5.16 ms, total: 2.03 s\n",
            "Wall time: 2.04 s\n",
            "\n",
            "Results for:  DecisionTree + cvect\n",
            "\n",
            "Accuracy:  0.8355555555555556\n",
            "\n",
            "Best Parameters:  {'vct__max_features': 2000, 'vct__stop_words': None}\n",
            "\n",
            "Fit Time:  2.04\n",
            "\n",
            "Working on  DecisionTree + tdif\n",
            "Fitting 5 folds for each of 12 candidates, totalling 60 fits\n",
            "CPU times: user 2.74 s, sys: 7.55 ms, total: 2.75 s\n",
            "Wall time: 2.75 s\n",
            "\n",
            "Results for:  DecisionTree + tdif\n",
            "\n",
            "Accuracy:  0.8118518518518518\n",
            "\n",
            "Best Parameters:  {'vct__max_features': 500, 'vct__stop_words': None}\n",
            "\n",
            "Fit Time:  2.75\n",
            "\n",
            "Working on  NaiveBayes + cvect\n",
            "Fitting 5 folds for each of 12 candidates, totalling 60 fits\n",
            "CPU times: user 1.22 s, sys: 9.89 ms, total: 1.23 s\n",
            "Wall time: 1.22 s\n",
            "\n",
            "Results for:  NaiveBayes + cvect\n",
            "\n",
            "Accuracy:  0.797037037037037\n",
            "\n",
            "Best Parameters:  {'vct__max_features': 500, 'vct__stop_words': None}\n",
            "\n",
            "Fit Time:  1.22\n",
            "\n",
            "Working on  NaiveBayes + tdif\n",
            "Fitting 5 folds for each of 12 candidates, totalling 60 fits\n",
            "CPU times: user 1.31 s, sys: 3.83 ms, total: 1.31 s\n",
            "Wall time: 1.31 s\n",
            "\n",
            "Results for:  NaiveBayes + tdif\n",
            "\n",
            "Accuracy:  0.7762962962962963\n",
            "\n",
            "Best Parameters:  {'vct__max_features': 100, 'vct__stop_words': 'english'}\n",
            "\n",
            "Fit Time:  1.31\n"
          ]
        }
      ],
      "source": [
        "iter_res = ''\n",
        "\n",
        "for model in models:\n",
        "        for vector in vectors:\n",
        "            print('\\nWorking on ', model[0], '+' ,vector[0] )\n",
        "            pipe_1 = Pipeline([('vct', vector[1]),\n",
        "                               ('mod', model[1])])\n",
        "            \n",
        "            grid = GridSearchCV(pipe_1, param_grid=params2, cv=5, scoring='accuracy', verbose=1)\n",
        "            \n",
        "            start_time = time.time()\n",
        "            %time grid.fit(stemmed_X_train, y_train)\n",
        "            end_time = time.time()\n",
        "            \n",
        "            test_acc = grid.score(stemmed_X_test, y_test)\n",
        "            best_p = grid.best_params_\n",
        "            \n",
        "            Max_feat_item = list(best_p.items())[0]\n",
        "            Max_feat_value = Max_feat_item[1]\n",
        "            \n",
        "            Best_stop_item = list(best_p.items())[1]\n",
        "            Best_stop_value = Best_stop_item[1]\n",
        "            \n",
        "            fit_time = round(end_time - start_time,2)\n",
        "            \n",
        "            print('\\nResults for: ', model[0], '+' ,vector[0] )\n",
        "            print('\\nAccuracy: ', test_acc)\n",
        "            print('\\nBest Parameters: ', best_p)\n",
        "            print('\\nFit Time: ', fit_time)\n",
        "            \n",
        "            iter_res= pd.DataFrame({'Model' : model[0], \n",
        "                                    'Stemming':'PorterStemmer()',\n",
        "                                    'Vectorizer':vector[0], \n",
        "                                    'Best Max Features' : Max_feat_value, \n",
        "                                    'Best Stop Words' : Best_stop_value,  \n",
        "                                    'Score' : test_acc,\n",
        "                                    'Time' : fit_time \n",
        "                                   }, index=[0])\n",
        "            \n",
        "            iter_res.set_index('Model', inplace=True)\n",
        "            results = pd.concat([results, iter_res], axis=0)"
      ]
    },
    {
      "cell_type": "markdown",
      "metadata": {
        "id": "Pdqn3BGNb34K"
      },
      "source": [
        "### WordNetLemmatizing"
      ]
    },
    {
      "cell_type": "code",
      "execution_count": null,
      "metadata": {
        "id": "EnWpA-eqb34K"
      },
      "outputs": [],
      "source": [
        "def lemma(text):\n",
        "    lemma = WordNetLemmatizer()\n",
        "    return ' '.join([lemma.lemmatize(w) for w in word_tokenize(text)])"
      ]
    },
    {
      "cell_type": "code",
      "execution_count": null,
      "metadata": {
        "id": "q2Z1lMvDb34K"
      },
      "outputs": [],
      "source": [
        "lemma_X_train = X_train.apply(lemma)\n",
        "lemma_X_test = X_test.apply(lemma)"
      ]
    },
    {
      "cell_type": "code",
      "execution_count": null,
      "metadata": {
        "colab": {
          "base_uri": "https://localhost:8080/"
        },
        "id": "1I2b1ZLJb34K",
        "outputId": "e2638680-5fe9-41ad-f6ed-408c27c8fd0f"
      },
      "outputs": [
        {
          "output_type": "stream",
          "name": "stdout",
          "text": [
            "\n",
            "Working on  LogisticRegression_l2 + cvect\n",
            "Fitting 5 folds for each of 12 candidates, totalling 60 fits\n",
            "CPU times: user 12.7 s, sys: 12.2 s, total: 24.9 s\n",
            "Wall time: 16.1 s\n",
            "\n",
            "Results for:  LogisticRegression_l2 + cvect\n",
            "\n",
            "Accuracy:  0.8548148148148148\n",
            "\n",
            "Best Parameters:  {'vct__max_features': 500, 'vct__stop_words': None}\n",
            "\n",
            "Fit Time:  16.09\n",
            "\n",
            "Working on  LogisticRegression_l2 + tdif\n",
            "Fitting 5 folds for each of 12 candidates, totalling 60 fits\n",
            "CPU times: user 14 s, sys: 11.9 s, total: 25.9 s\n",
            "Wall time: 16.6 s\n",
            "\n",
            "Results for:  LogisticRegression_l2 + tdif\n",
            "\n",
            "Accuracy:  0.837037037037037\n",
            "\n",
            "Best Parameters:  {'vct__max_features': 500, 'vct__stop_words': None}\n",
            "\n",
            "Fit Time:  16.62\n",
            "\n",
            "Working on  DecisionTree + cvect\n",
            "Fitting 5 folds for each of 12 candidates, totalling 60 fits\n",
            "CPU times: user 3.16 s, sys: 357 µs, total: 3.16 s\n",
            "Wall time: 3.22 s\n",
            "\n",
            "Results for:  DecisionTree + cvect\n",
            "\n",
            "Accuracy:  0.8148148148148148\n",
            "\n",
            "Best Parameters:  {'vct__max_features': 3000, 'vct__stop_words': None}\n",
            "\n",
            "Fit Time:  3.22\n",
            "\n",
            "Working on  DecisionTree + tdif\n",
            "Fitting 5 folds for each of 12 candidates, totalling 60 fits\n",
            "CPU times: user 2.91 s, sys: 12.2 ms, total: 2.93 s\n",
            "Wall time: 2.92 s\n",
            "\n",
            "Results for:  DecisionTree + tdif\n",
            "\n",
            "Accuracy:  0.8192592592592592\n",
            "\n",
            "Best Parameters:  {'vct__max_features': 1000, 'vct__stop_words': None}\n",
            "\n",
            "Fit Time:  2.92\n",
            "\n",
            "Working on  NaiveBayes + cvect\n",
            "Fitting 5 folds for each of 12 candidates, totalling 60 fits\n",
            "CPU times: user 1.21 s, sys: 6.14 ms, total: 1.22 s\n",
            "Wall time: 1.22 s\n",
            "\n",
            "Results for:  NaiveBayes + cvect\n",
            "\n",
            "Accuracy:  0.8\n",
            "\n",
            "Best Parameters:  {'vct__max_features': 500, 'vct__stop_words': 'english'}\n",
            "\n",
            "Fit Time:  1.22\n",
            "\n",
            "Working on  NaiveBayes + tdif\n",
            "Fitting 5 folds for each of 12 candidates, totalling 60 fits\n",
            "CPU times: user 1.34 s, sys: 7.64 ms, total: 1.34 s\n",
            "Wall time: 1.34 s\n",
            "\n",
            "Results for:  NaiveBayes + tdif\n",
            "\n",
            "Accuracy:  0.7822222222222223\n",
            "\n",
            "Best Parameters:  {'vct__max_features': 500, 'vct__stop_words': 'english'}\n",
            "\n",
            "Fit Time:  1.34\n"
          ]
        }
      ],
      "source": [
        "iter_res = ''\n",
        "\n",
        "for model in models:\n",
        "        for vector in vectors:\n",
        "            print('\\nWorking on ', model[0], '+' ,vector[0] )\n",
        "            pipe_1 = Pipeline([('vct', vector[1]),\n",
        "                               ('mod', model[1])])\n",
        "            grid = GridSearchCV(pipe_1, param_grid=params2, cv=5, scoring='accuracy', verbose=1)\n",
        "            \n",
        "            start_time = time.time()\n",
        "            %time grid.fit(lemma_X_train, y_train)\n",
        "            end_time = time.time()\n",
        "            \n",
        "            fit_time = round(end_time - start_time,2)\n",
        "            \n",
        "            test_acc = grid.score(lemma_X_test, y_test)\n",
        "            \n",
        "            best_p = grid.best_params_\n",
        "            \n",
        "            Max_feat_item = list(best_p.items())[0]\n",
        "            Max_feat_value = Max_feat_item[1]\n",
        "            \n",
        "            Best_stop_item = list(best_p.items())[1]\n",
        "            Best_stop_value = Best_stop_item[1]\n",
        "            \n",
        "            print('\\nResults for: ', model[0], '+' ,vector[0] )\n",
        "            print('\\nAccuracy: ', test_acc)\n",
        "            print('\\nBest Parameters: ', best_p)\n",
        "            print('\\nFit Time: ', fit_time)\n",
        "            \n",
        "            iter_res= pd.DataFrame({'Model' : model[0], \n",
        "                                    'Stemming':'WordNetLemmatizer()',\n",
        "                                    'Vectorizer':vector[0], \n",
        "                                    'Best Max Features' : Max_feat_value, \n",
        "                                    'Best Stop Words' : Best_stop_value,  \n",
        "                                    'Score' : test_acc,\n",
        "                                    'Time' : fit_time \n",
        "                                   }, index=[0])\n",
        "            \n",
        "            iter_res.set_index('Model', inplace=True)\n",
        "            results = pd.concat([results, iter_res], axis=0)\n"
      ]
    },
    {
      "cell_type": "code",
      "execution_count": null,
      "metadata": {
        "id": "h_w66SAQb34K"
      },
      "outputs": [],
      "source": [
        "results.sort_values(by='Score', ascending=False, inplace=True)"
      ]
    },
    {
      "cell_type": "markdown",
      "metadata": {
        "id": "hYbo7sOKb34K"
      },
      "source": [
        "### Results"
      ]
    },
    {
      "cell_type": "code",
      "execution_count": null,
      "metadata": {
        "colab": {
          "base_uri": "https://localhost:8080/",
          "height": 367
        },
        "id": "aVq6QMHxb34K",
        "outputId": "dabb6922-17cd-474b-e218-a315f07d4ccc"
      },
      "outputs": [
        {
          "output_type": "execute_result",
          "data": {
            "text/plain": [
              "                                  Stemming Vectorizer Best Max Features  \\\n",
              "Model                                                                     \n",
              "LogisticRegression_l2      PorterStemmer()      cvect               500   \n",
              "LogisticRegression_l2  WordNetLemmatizer()      cvect               500   \n",
              "LogisticRegression_l2  WordNetLemmatizer()       tdif               500   \n",
              "DecisionTree               PorterStemmer()      cvect              2000   \n",
              "LogisticRegression_l2      PorterStemmer()       tdif               500   \n",
              "DecisionTree           WordNetLemmatizer()       tdif              1000   \n",
              "DecisionTree           WordNetLemmatizer()      cvect              3000   \n",
              "DecisionTree               PorterStemmer()       tdif               500   \n",
              "NaiveBayes             WordNetLemmatizer()      cvect               500   \n",
              "NaiveBayes                 PorterStemmer()      cvect               500   \n",
              "NaiveBayes             WordNetLemmatizer()       tdif               500   \n",
              "NaiveBayes                 PorterStemmer()       tdif               100   \n",
              "\n",
              "                      Best Stop Words     Score   Time  \n",
              "Model                                                   \n",
              "LogisticRegression_l2            None  0.863704  12.37  \n",
              "LogisticRegression_l2            None  0.854815  16.09  \n",
              "LogisticRegression_l2            None  0.837037  16.62  \n",
              "DecisionTree                     None  0.835556   2.04  \n",
              "LogisticRegression_l2            None  0.834074  12.50  \n",
              "DecisionTree                     None  0.819259   2.92  \n",
              "DecisionTree                     None  0.814815   3.22  \n",
              "DecisionTree                     None  0.811852   2.75  \n",
              "NaiveBayes                    english  0.800000   1.22  \n",
              "NaiveBayes                       None  0.797037   1.22  \n",
              "NaiveBayes                    english  0.782222   1.34  \n",
              "NaiveBayes                    english  0.776296   1.31  "
            ],
            "text/html": [
              "\n",
              "  <div id=\"df-1821b6cb-2dae-427f-9001-cf1a3bcef652\">\n",
              "    <div class=\"colab-df-container\">\n",
              "      <div>\n",
              "<style scoped>\n",
              "    .dataframe tbody tr th:only-of-type {\n",
              "        vertical-align: middle;\n",
              "    }\n",
              "\n",
              "    .dataframe tbody tr th {\n",
              "        vertical-align: top;\n",
              "    }\n",
              "\n",
              "    .dataframe thead th {\n",
              "        text-align: right;\n",
              "    }\n",
              "</style>\n",
              "<table border=\"1\" class=\"dataframe\">\n",
              "  <thead>\n",
              "    <tr style=\"text-align: right;\">\n",
              "      <th></th>\n",
              "      <th>Stemming</th>\n",
              "      <th>Vectorizer</th>\n",
              "      <th>Best Max Features</th>\n",
              "      <th>Best Stop Words</th>\n",
              "      <th>Score</th>\n",
              "      <th>Time</th>\n",
              "    </tr>\n",
              "    <tr>\n",
              "      <th>Model</th>\n",
              "      <th></th>\n",
              "      <th></th>\n",
              "      <th></th>\n",
              "      <th></th>\n",
              "      <th></th>\n",
              "      <th></th>\n",
              "    </tr>\n",
              "  </thead>\n",
              "  <tbody>\n",
              "    <tr>\n",
              "      <th>LogisticRegression_l2</th>\n",
              "      <td>PorterStemmer()</td>\n",
              "      <td>cvect</td>\n",
              "      <td>500</td>\n",
              "      <td>None</td>\n",
              "      <td>0.863704</td>\n",
              "      <td>12.37</td>\n",
              "    </tr>\n",
              "    <tr>\n",
              "      <th>LogisticRegression_l2</th>\n",
              "      <td>WordNetLemmatizer()</td>\n",
              "      <td>cvect</td>\n",
              "      <td>500</td>\n",
              "      <td>None</td>\n",
              "      <td>0.854815</td>\n",
              "      <td>16.09</td>\n",
              "    </tr>\n",
              "    <tr>\n",
              "      <th>LogisticRegression_l2</th>\n",
              "      <td>WordNetLemmatizer()</td>\n",
              "      <td>tdif</td>\n",
              "      <td>500</td>\n",
              "      <td>None</td>\n",
              "      <td>0.837037</td>\n",
              "      <td>16.62</td>\n",
              "    </tr>\n",
              "    <tr>\n",
              "      <th>DecisionTree</th>\n",
              "      <td>PorterStemmer()</td>\n",
              "      <td>cvect</td>\n",
              "      <td>2000</td>\n",
              "      <td>None</td>\n",
              "      <td>0.835556</td>\n",
              "      <td>2.04</td>\n",
              "    </tr>\n",
              "    <tr>\n",
              "      <th>LogisticRegression_l2</th>\n",
              "      <td>PorterStemmer()</td>\n",
              "      <td>tdif</td>\n",
              "      <td>500</td>\n",
              "      <td>None</td>\n",
              "      <td>0.834074</td>\n",
              "      <td>12.50</td>\n",
              "    </tr>\n",
              "    <tr>\n",
              "      <th>DecisionTree</th>\n",
              "      <td>WordNetLemmatizer()</td>\n",
              "      <td>tdif</td>\n",
              "      <td>1000</td>\n",
              "      <td>None</td>\n",
              "      <td>0.819259</td>\n",
              "      <td>2.92</td>\n",
              "    </tr>\n",
              "    <tr>\n",
              "      <th>DecisionTree</th>\n",
              "      <td>WordNetLemmatizer()</td>\n",
              "      <td>cvect</td>\n",
              "      <td>3000</td>\n",
              "      <td>None</td>\n",
              "      <td>0.814815</td>\n",
              "      <td>3.22</td>\n",
              "    </tr>\n",
              "    <tr>\n",
              "      <th>DecisionTree</th>\n",
              "      <td>PorterStemmer()</td>\n",
              "      <td>tdif</td>\n",
              "      <td>500</td>\n",
              "      <td>None</td>\n",
              "      <td>0.811852</td>\n",
              "      <td>2.75</td>\n",
              "    </tr>\n",
              "    <tr>\n",
              "      <th>NaiveBayes</th>\n",
              "      <td>WordNetLemmatizer()</td>\n",
              "      <td>cvect</td>\n",
              "      <td>500</td>\n",
              "      <td>english</td>\n",
              "      <td>0.800000</td>\n",
              "      <td>1.22</td>\n",
              "    </tr>\n",
              "    <tr>\n",
              "      <th>NaiveBayes</th>\n",
              "      <td>PorterStemmer()</td>\n",
              "      <td>cvect</td>\n",
              "      <td>500</td>\n",
              "      <td>None</td>\n",
              "      <td>0.797037</td>\n",
              "      <td>1.22</td>\n",
              "    </tr>\n",
              "    <tr>\n",
              "      <th>NaiveBayes</th>\n",
              "      <td>WordNetLemmatizer()</td>\n",
              "      <td>tdif</td>\n",
              "      <td>500</td>\n",
              "      <td>english</td>\n",
              "      <td>0.782222</td>\n",
              "      <td>1.34</td>\n",
              "    </tr>\n",
              "    <tr>\n",
              "      <th>NaiveBayes</th>\n",
              "      <td>PorterStemmer()</td>\n",
              "      <td>tdif</td>\n",
              "      <td>100</td>\n",
              "      <td>english</td>\n",
              "      <td>0.776296</td>\n",
              "      <td>1.31</td>\n",
              "    </tr>\n",
              "  </tbody>\n",
              "</table>\n",
              "</div>\n",
              "      <button class=\"colab-df-convert\" onclick=\"convertToInteractive('df-1821b6cb-2dae-427f-9001-cf1a3bcef652')\"\n",
              "              title=\"Convert this dataframe to an interactive table.\"\n",
              "              style=\"display:none;\">\n",
              "        \n",
              "  <svg xmlns=\"http://www.w3.org/2000/svg\" height=\"24px\"viewBox=\"0 0 24 24\"\n",
              "       width=\"24px\">\n",
              "    <path d=\"M0 0h24v24H0V0z\" fill=\"none\"/>\n",
              "    <path d=\"M18.56 5.44l.94 2.06.94-2.06 2.06-.94-2.06-.94-.94-2.06-.94 2.06-2.06.94zm-11 1L8.5 8.5l.94-2.06 2.06-.94-2.06-.94L8.5 2.5l-.94 2.06-2.06.94zm10 10l.94 2.06.94-2.06 2.06-.94-2.06-.94-.94-2.06-.94 2.06-2.06.94z\"/><path d=\"M17.41 7.96l-1.37-1.37c-.4-.4-.92-.59-1.43-.59-.52 0-1.04.2-1.43.59L10.3 9.45l-7.72 7.72c-.78.78-.78 2.05 0 2.83L4 21.41c.39.39.9.59 1.41.59.51 0 1.02-.2 1.41-.59l7.78-7.78 2.81-2.81c.8-.78.8-2.07 0-2.86zM5.41 20L4 18.59l7.72-7.72 1.47 1.35L5.41 20z\"/>\n",
              "  </svg>\n",
              "      </button>\n",
              "      \n",
              "  <style>\n",
              "    .colab-df-container {\n",
              "      display:flex;\n",
              "      flex-wrap:wrap;\n",
              "      gap: 12px;\n",
              "    }\n",
              "\n",
              "    .colab-df-convert {\n",
              "      background-color: #E8F0FE;\n",
              "      border: none;\n",
              "      border-radius: 50%;\n",
              "      cursor: pointer;\n",
              "      display: none;\n",
              "      fill: #1967D2;\n",
              "      height: 32px;\n",
              "      padding: 0 0 0 0;\n",
              "      width: 32px;\n",
              "    }\n",
              "\n",
              "    .colab-df-convert:hover {\n",
              "      background-color: #E2EBFA;\n",
              "      box-shadow: 0px 1px 2px rgba(60, 64, 67, 0.3), 0px 1px 3px 1px rgba(60, 64, 67, 0.15);\n",
              "      fill: #174EA6;\n",
              "    }\n",
              "\n",
              "    [theme=dark] .colab-df-convert {\n",
              "      background-color: #3B4455;\n",
              "      fill: #D2E3FC;\n",
              "    }\n",
              "\n",
              "    [theme=dark] .colab-df-convert:hover {\n",
              "      background-color: #434B5C;\n",
              "      box-shadow: 0px 1px 3px 1px rgba(0, 0, 0, 0.15);\n",
              "      filter: drop-shadow(0px 1px 2px rgba(0, 0, 0, 0.3));\n",
              "      fill: #FFFFFF;\n",
              "    }\n",
              "  </style>\n",
              "\n",
              "      <script>\n",
              "        const buttonEl =\n",
              "          document.querySelector('#df-1821b6cb-2dae-427f-9001-cf1a3bcef652 button.colab-df-convert');\n",
              "        buttonEl.style.display =\n",
              "          google.colab.kernel.accessAllowed ? 'block' : 'none';\n",
              "\n",
              "        async function convertToInteractive(key) {\n",
              "          const element = document.querySelector('#df-1821b6cb-2dae-427f-9001-cf1a3bcef652');\n",
              "          const dataTable =\n",
              "            await google.colab.kernel.invokeFunction('convertToInteractive',\n",
              "                                                     [key], {});\n",
              "          if (!dataTable) return;\n",
              "\n",
              "          const docLinkHtml = 'Like what you see? Visit the ' +\n",
              "            '<a target=\"_blank\" href=https://colab.research.google.com/notebooks/data_table.ipynb>data table notebook</a>'\n",
              "            + ' to learn more about interactive tables.';\n",
              "          element.innerHTML = '';\n",
              "          dataTable['output_type'] = 'display_data';\n",
              "          await google.colab.output.renderOutput(dataTable, element);\n",
              "          const docLink = document.createElement('div');\n",
              "          docLink.innerHTML = docLinkHtml;\n",
              "          element.appendChild(docLink);\n",
              "        }\n",
              "      </script>\n",
              "    </div>\n",
              "  </div>\n",
              "  "
            ]
          },
          "metadata": {},
          "execution_count": 124
        }
      ],
      "source": [
        "results"
      ]
    },
    {
      "cell_type": "code",
      "source": [
        "ar = results['Score'].plot(kind='bar',figsize=(9,6),title=\"Accuracy Score\")\n",
        "sns.despine(left=True, bottom=True)\n",
        "ar.set_xlabel(\"Class\")\n",
        "ar.set_ylabel(\"Frequency\")\n",
        "sns.despine(left=True, bottom=True)"
      ],
      "metadata": {
        "colab": {
          "base_uri": "https://localhost:8080/",
          "height": 501
        },
        "id": "uZfAqaSdwWDp",
        "outputId": "90a4cc9f-2c39-421c-f22e-c83ba64c0e95"
      },
      "execution_count": null,
      "outputs": [
        {
          "output_type": "display_data",
          "data": {
            "text/plain": [
              "<Figure size 648x432 with 1 Axes>"
            ],
            "image/png": "[encoded data removed]"
          },
          "metadata": {
            "needs_background": "light"
          }
        }
      ]
    },
    {
      "cell_type": "code",
      "source": [
        "plt.figure(figsize=(9, 6))\n",
        "sns.scatterplot(data=results, x='Time', y='Score', hue='Score', s=100)\n",
        "plt.show()"
      ],
      "metadata": {
        "colab": {
          "base_uri": "https://localhost:8080/",
          "height": 388
        },
        "id": "YaSwu4AbxUB_",
        "outputId": "b09606ae-1b3d-4be4-d70a-ad47de594e74"
      },
      "execution_count": null,
      "outputs": [
        {
          "output_type": "display_data",
          "data": {
            "text/plain": [
              "<Figure size 648x432 with 1 Axes>"
            ],
            "image/png": "[encoded data removed]"
          },
          "metadata": {
            "needs_background": "light"
          }
        }
      ]
    },
    {
      "cell_type": "code",
      "execution_count": null,
      "metadata": {
        "colab": {
          "base_uri": "https://localhost:8080/"
        },
        "id": "A2jxfT_hb34K",
        "outputId": "2cbaad45-97b7-401e-aa1f-3dd585376881"
      },
      "outputs": [
        {
          "output_type": "stream",
          "name": "stdout",
          "text": [
            "Total Fitting Time (min) = 1.23\n"
          ]
        }
      ],
      "source": [
        "total_fitting_time = results['Time'].sum()\n",
        "total_fitting_time = total_fitting_time/60\n",
        "print('Total Fitting Time (min) =', round(total_fitting_time,2))"
      ]
    },
    {
      "cell_type": "code",
      "execution_count": null,
      "metadata": {
        "colab": {
          "base_uri": "https://localhost:8080/",
          "height": 269
        },
        "id": "WehMyAR3b34L",
        "outputId": "24b0fbcc-2aaf-4c3b-84de-069b17c99137"
      },
      "outputs": [
        {
          "output_type": "execute_result",
          "data": {
            "text/plain": [
              "                                            Time\n",
              "Stemming            Model                       \n",
              "PorterStemmer()     DecisionTree            4.79\n",
              "                    LogisticRegression_l2  24.87\n",
              "                    NaiveBayes              2.53\n",
              "WordNetLemmatizer() DecisionTree            6.14\n",
              "                    LogisticRegression_l2  32.71\n",
              "                    NaiveBayes              2.56"
            ],
            "text/html": [
              "\n",
              "  <div id=\"df-ff14a738-fd74-4f9f-996d-9d9518728375\">\n",
              "    <div class=\"colab-df-container\">\n",
              "      <div>\n",
              "<style scoped>\n",
              "    .dataframe tbody tr th:only-of-type {\n",
              "        vertical-align: middle;\n",
              "    }\n",
              "\n",
              "    .dataframe tbody tr th {\n",
              "        vertical-align: top;\n",
              "    }\n",
              "\n",
              "    .dataframe thead th {\n",
              "        text-align: right;\n",
              "    }\n",
              "</style>\n",
              "<table border=\"1\" class=\"dataframe\">\n",
              "  <thead>\n",
              "    <tr style=\"text-align: right;\">\n",
              "      <th></th>\n",
              "      <th></th>\n",
              "      <th>Time</th>\n",
              "    </tr>\n",
              "    <tr>\n",
              "      <th>Stemming</th>\n",
              "      <th>Model</th>\n",
              "      <th></th>\n",
              "    </tr>\n",
              "  </thead>\n",
              "  <tbody>\n",
              "    <tr>\n",
              "      <th rowspan=\"3\" valign=\"top\">PorterStemmer()</th>\n",
              "      <th>DecisionTree</th>\n",
              "      <td>4.79</td>\n",
              "    </tr>\n",
              "    <tr>\n",
              "      <th>LogisticRegression_l2</th>\n",
              "      <td>24.87</td>\n",
              "    </tr>\n",
              "    <tr>\n",
              "      <th>NaiveBayes</th>\n",
              "      <td>2.53</td>\n",
              "    </tr>\n",
              "    <tr>\n",
              "      <th rowspan=\"3\" valign=\"top\">WordNetLemmatizer()</th>\n",
              "      <th>DecisionTree</th>\n",
              "      <td>6.14</td>\n",
              "    </tr>\n",
              "    <tr>\n",
              "      <th>LogisticRegression_l2</th>\n",
              "      <td>32.71</td>\n",
              "    </tr>\n",
              "    <tr>\n",
              "      <th>NaiveBayes</th>\n",
              "      <td>2.56</td>\n",
              "    </tr>\n",
              "  </tbody>\n",
              "</table>\n",
              "</div>\n",
              "      <button class=\"colab-df-convert\" onclick=\"convertToInteractive('df-ff14a738-fd74-4f9f-996d-9d9518728375')\"\n",
              "              title=\"Convert this dataframe to an interactive table.\"\n",
              "              style=\"display:none;\">\n",
              "        \n",
              "  <svg xmlns=\"http://www.w3.org/2000/svg\" height=\"24px\"viewBox=\"0 0 24 24\"\n",
              "       width=\"24px\">\n",
              "    <path d=\"M0 0h24v24H0V0z\" fill=\"none\"/>\n",
              "    <path d=\"M18.56 5.44l.94 2.06.94-2.06 2.06-.94-2.06-.94-.94-2.06-.94 2.06-2.06.94zm-11 1L8.5 8.5l.94-2.06 2.06-.94-2.06-.94L8.5 2.5l-.94 2.06-2.06.94zm10 10l.94 2.06.94-2.06 2.06-.94-2.06-.94-.94-2.06-.94 2.06-2.06.94z\"/><path d=\"M17.41 7.96l-1.37-1.37c-.4-.4-.92-.59-1.43-.59-.52 0-1.04.2-1.43.59L10.3 9.45l-7.72 7.72c-.78.78-.78 2.05 0 2.83L4 21.41c.39.39.9.59 1.41.59.51 0 1.02-.2 1.41-.59l7.78-7.78 2.81-2.81c.8-.78.8-2.07 0-2.86zM5.41 20L4 18.59l7.72-7.72 1.47 1.35L5.41 20z\"/>\n",
              "  </svg>\n",
              "      </button>\n",
              "      \n",
              "  <style>\n",
              "    .colab-df-container {\n",
              "      display:flex;\n",
              "      flex-wrap:wrap;\n",
              "      gap: 12px;\n",
              "    }\n",
              "\n",
              "    .colab-df-convert {\n",
              "      background-color: #E8F0FE;\n",
              "      border: none;\n",
              "      border-radius: 50%;\n",
              "      cursor: pointer;\n",
              "      display: none;\n",
              "      fill: #1967D2;\n",
              "      height: 32px;\n",
              "      padding: 0 0 0 0;\n",
              "      width: 32px;\n",
              "    }\n",
              "\n",
              "    .colab-df-convert:hover {\n",
              "      background-color: #E2EBFA;\n",
              "      box-shadow: 0px 1px 2px rgba(60, 64, 67, 0.3), 0px 1px 3px 1px rgba(60, 64, 67, 0.15);\n",
              "      fill: #174EA6;\n",
              "    }\n",
              "\n",
              "    [theme=dark] .colab-df-convert {\n",
              "      background-color: #3B4455;\n",
              "      fill: #D2E3FC;\n",
              "    }\n",
              "\n",
              "    [theme=dark] .colab-df-convert:hover {\n",
              "      background-color: #434B5C;\n",
              "      box-shadow: 0px 1px 3px 1px rgba(0, 0, 0, 0.15);\n",
              "      filter: drop-shadow(0px 1px 2px rgba(0, 0, 0, 0.3));\n",
              "      fill: #FFFFFF;\n",
              "    }\n",
              "  </style>\n",
              "\n",
              "      <script>\n",
              "        const buttonEl =\n",
              "          document.querySelector('#df-ff14a738-fd74-4f9f-996d-9d9518728375 button.colab-df-convert');\n",
              "        buttonEl.style.display =\n",
              "          google.colab.kernel.accessAllowed ? 'block' : 'none';\n",
              "\n",
              "        async function convertToInteractive(key) {\n",
              "          const element = document.querySelector('#df-ff14a738-fd74-4f9f-996d-9d9518728375');\n",
              "          const dataTable =\n",
              "            await google.colab.kernel.invokeFunction('convertToInteractive',\n",
              "                                                     [key], {});\n",
              "          if (!dataTable) return;\n",
              "\n",
              "          const docLinkHtml = 'Like what you see? Visit the ' +\n",
              "            '<a target=\"_blank\" href=https://colab.research.google.com/notebooks/data_table.ipynb>data table notebook</a>'\n",
              "            + ' to learn more about interactive tables.';\n",
              "          element.innerHTML = '';\n",
              "          dataTable['output_type'] = 'display_data';\n",
              "          await google.colab.output.renderOutput(dataTable, element);\n",
              "          const docLink = document.createElement('div');\n",
              "          docLink.innerHTML = docLinkHtml;\n",
              "          element.appendChild(docLink);\n",
              "        }\n",
              "      </script>\n",
              "    </div>\n",
              "  </div>\n",
              "  "
            ]
          },
          "metadata": {},
          "execution_count": 128
        }
      ],
      "source": [
        "# Perform an aggregation on the groups\n",
        "grouped = results.groupby(['Stemming','Model'])\n",
        "result_g = grouped['Time'].sum()\n",
        "pd.DataFrame(result_g) "
      ]
    }
  ],
  "metadata": {
    "kernelspec": {
      "display_name": "Python 3 (ipykernel)",
      "language": "python",
      "name": "python3"
    },
    "language_info": {
      "codemirror_mode": {
        "name": "ipython",
        "version": 3
      },
      "file_extension": ".py",
      "mimetype": "text/x-python",
      "name": "python",
      "nbconvert_exporter": "python",
      "pygments_lexer": "ipython3",
      "version": "3.9.15"
    },
    "colab": {
      "provenance": [],
      "include_colab_link": true
    }
  },
  "nbformat": 4,
  "nbformat_minor": 0
}